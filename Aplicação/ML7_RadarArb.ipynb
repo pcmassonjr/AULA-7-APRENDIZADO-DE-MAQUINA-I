{
 "cells": [
  {
   "cell_type": "markdown",
   "metadata": {
    "colab_type": "text",
    "id": "view-in-github"
   },
   "source": [
    "<a href=\"https://colab.research.google.com/github/Rogerio-mack/Machine-Learning-I/blob/main/ML7_ex_projeto.ipynb\" target=\"_parent\"><img src=\"https://colab.research.google.com/assets/colab-badge.svg\" alt=\"Open In Colab\"/></a>"
   ]
  },
  {
   "cell_type": "markdown",
   "metadata": {
    "id": "40b90843"
   },
   "source": [
    "<img src=\"http://meusite.mackenzie.br/rogerio/mackenzie_logo/UPM.2_horizontal_vermelho.jpg\"  width=300, align=\"right\">\n",
    "<br>\n",
    "<br>\n",
    "<br>\n",
    "<br>\n",
    "<br>\n",
    "\n",
    "# ***Título do seu projeto***\n",
    "---"
   ]
  },
  {
   "cell_type": "markdown",
   "metadata": {
    "id": "ZSUH3FNWWOsh"
   },
   "source": [
    "$\\rightarrow$ **esta célula deve ser removida na entrega do projeto** \n",
    "\n",
    "# Objetivo\n",
    "\n",
    "Neste trabalho você deve obrigatoriamente trabalhar em grupo de 2-4 alunos e desenvolver uma solução de aprendizado supervisionado para algum problema de interesse do grupo. Os problemas poderão ser de classificação ou de regressão. \n",
    "\n",
    "## Descrição do Projeto\n",
    "\n",
    "O trabalho deve ser original e desenvolvido em R ou Python notebook com um conjunto de dados próprios e originais definidos. Entendam como dados próprios e originais dados que são originais de empresas ou entidades, podendo ser bases públicas. Dados de ONGs, empresas privadas ou governo, são exemplos de bases válidas. Bases de repositórios públicos como Kaggle e UCI, que fornecem bases prontas não são originais. Tenha em mente: você deve construir uma base de dados nova para o seu problema, é essa a ideia de dados originais. Se tiver dúvidas consulte o professor antes de empregar uma base.\n",
    "\n",
    "Os dados devem suportar um problema relevante e adequado para o aprendizado supervisionado. Assim, não podem ser empregadas bases artificiais e problemas muito simples. Devem ser evitadas também Séries Temporais como séries financeiras (como ações) e de dados climáticos que requerem outras técnicas não detalhadas aqui.\n",
    "\n",
    "As bases devem conter um mínimo de 1000 instâncias. Consulte o professor para uso de um número menor de instâncias para dados próprios de uma empresa por exemplo.\n",
    "\n",
    "Você deve implementar ao menos dois modelos, comparar e discutir os seus resultados. Seu notebook deve ser 100% executável e incluir todo necessário para construção dos dados, entendimento do problema e da solução. \n",
    "\n",
    "Deve ainda ser entregue uma apresentação em **vídeo (até 5min)** dos resultados. \n",
    "\n"
   ]
  },
  {
   "cell_type": "markdown",
   "metadata": {
    "id": "Ikv-pBzr9bNu"
   },
   "source": [
    "$\\rightarrow$ **esta célula deve ser removida na entrega do projeto** \n",
    "\n",
    "Siga este template para entrega do seu projeto. O código deste notebook precisa ser 100% executável, sem a necessidade de qualquer operação adicional como por exemplo a download, cópia ou alteração de arquivos. Crie assim repositórios públicos para suas bases de dados, por exemplo, disponibilizando-as no GitHub.\n",
    "\n",
    "## Entregas na Tarefa do Moodle\n",
    "\n",
    "1. Poste este Python notebook (.ipynb) modificado com o seu projeto.\n",
    "2. Poste o endereço (link) do Python notebook do seu projeto compartilhado (público para leitura) nos comentários da tarefa\n",
    "3. Um vídeo de até 5min com a apresentação do seu projeto em formato .mp4\n",
    "4. Opcional, poste o .pptx da apresentação\n",
    "\n",
    "## Vídeo\n",
    "\n",
    "O vídeo deve contemplar:\n",
    "\n",
    "1. Apresentação e Justificativa do seu problema\n",
    "2. A abordagem dada ao problema (fonte dos dados, transformações, modelos avaliados)\n",
    "3. A solução e seus resultados\n",
    "4. Diferenciais e Melhorias Futuras do trabalho (modelos e técnicas diferenciadas que foram empregadas, limitações do modelo atual e como melhora-las etc.)\n",
    "\n",
    "\n",
    "\n",
    "\n",
    "\n"
   ]
  },
  {
   "cell_type": "code",
   "execution_count": 58,
   "metadata": {
    "id": "rYx9D4GZA5o9"
   },
   "outputs": [],
   "source": [
    "#@title Identificação do Grupo\n",
    "\n",
    "#@markdown Integrantes do Grupo (*informe \\<TIA\\>,\\<nome\\>*)\n",
    "Aluno1 = '10424880, Bruno Zovaro Nascimento' #@param {type:\"string\"} \n",
    "Aluno2 = '14023666, Douglas Novaes Dias' #@param {type:\"string\"}\n",
    "Aluno3 = '10363757, Milan Mirco Moraes Mazur' #@param {type:\"string\"}\n",
    "Aluno4 = '10416023, Paulo Cesar Masson Junior' #@param {type:\"string\"}\n",
    "Aluno5 = 'None' #@param {type:\"string\"}\n"
   ]
  },
  {
   "cell_type": "markdown",
   "metadata": {
    "id": "JlCIc2YooBW7"
   },
   "source": [
    "# **Apresentação**"
   ]
  },
  {
   "cell_type": "markdown",
   "metadata": {
    "id": "A4-f8AtfKAn2"
   },
   "source": [
    "# Problema\n",
    "\n",
    "*Apresente resumidamente o trabalho justificando a escolha e a relevância do problema.*\n",
    "\n"
   ]
  },
  {
   "cell_type": "markdown",
   "metadata": {
    "id": "7LtXrRFr4hg3"
   },
   "source": [
    "# Referencial Teórico\n",
    "\n",
    "*Apresente aqui o referencial teórico empregado. Empregue as referências empregadas que devem aparecer no final do trabalho. Lembre-se, existem  referências técnicas do domínio da solução, mas também referências do domínio do problema (por exemplo, se estiver classificando reclamações de clientes, existem inúmeras referências sobre o problema de negócio em si).* "
   ]
  },
  {
   "cell_type": "markdown",
   "metadata": {
    "id": "7-pdJIiunIWL"
   },
   "source": [
    "# Metodologia \n",
    "\n",
    "*Apresente e discuta a abordagem de solução empregada. Discuta os dados empregados, tratamento efetuados, variáveis preditoras e objetivo, técnicas empregadas.*\n",
    "\n"
   ]
  },
  {
   "cell_type": "markdown",
   "metadata": {
    "id": "ZGpU-v6CnTaG"
   },
   "source": [
    "# Resultados\n",
    "\n",
    "*Resuma aqui os resultados, principalmente incluindo tabelas e esquemas necessários.* "
   ]
  },
  {
   "cell_type": "markdown",
   "metadata": {
    "id": "caAD2jBEn0KM"
   },
   "source": [
    "# **Implementação**"
   ]
  },
  {
   "cell_type": "markdown",
   "metadata": {
    "id": "xGFJyOm1Kdtd"
   },
   "source": [
    "# Base de Dados \n",
    "\n",
    "*Descreva aqui os dados utilizados, discuta eventuais transformações e/ou seleções dos dados e preparações nos dados.* \n",
    "\n",
    "\n"
   ]
  },
  {
   "cell_type": "code",
   "execution_count": 59,
   "metadata": {},
   "outputs": [
    {
     "name": "stdout",
     "output_type": "stream",
     "text": [
      "Requirement already satisfied: pandas in c:\\users\\pauli\\appdata\\local\\programs\\python\\python312\\lib\\site-packages (2.2.2)Note: you may need to restart the kernel to use updated packages.\n",
      "\n",
      "Requirement already satisfied: numpy>=1.26.0 in c:\\users\\pauli\\appdata\\local\\programs\\python\\python312\\lib\\site-packages (from pandas) (2.1.1)\n",
      "Requirement already satisfied: python-dateutil>=2.8.2 in c:\\users\\pauli\\appdata\\local\\programs\\python\\python312\\lib\\site-packages (from pandas) (2.9.0.post0)\n",
      "Requirement already satisfied: pytz>=2020.1 in c:\\users\\pauli\\appdata\\local\\programs\\python\\python312\\lib\\site-packages (from pandas) (2024.1)\n",
      "Requirement already satisfied: tzdata>=2022.7 in c:\\users\\pauli\\appdata\\local\\programs\\python\\python312\\lib\\site-packages (from pandas) (2024.1)\n",
      "Requirement already satisfied: six>=1.5 in c:\\users\\pauli\\appdata\\local\\programs\\python\\python312\\lib\\site-packages (from python-dateutil>=2.8.2->pandas) (1.16.0)\n"
     ]
    },
    {
     "name": "stderr",
     "output_type": "stream",
     "text": [
      "\n",
      "[notice] A new release of pip is available: 24.2 -> 24.3.1\n",
      "[notice] To update, run: python.exe -m pip install --upgrade pip\n"
     ]
    }
   ],
   "source": [
    "pip install pandas"
   ]
  },
  {
   "cell_type": "code",
   "execution_count": 60,
   "metadata": {},
   "outputs": [
    {
     "name": "stdout",
     "output_type": "stream",
     "text": [
      "Requirement already satisfied: requests in c:\\users\\pauli\\appdata\\local\\programs\\python\\python312\\lib\\site-packages (2.32.3)\n",
      "Requirement already satisfied: pandas in c:\\users\\pauli\\appdata\\local\\programs\\python\\python312\\lib\\site-packages (2.2.2)\n",
      "Requirement already satisfied: pyxlsb in c:\\users\\pauli\\appdata\\local\\programs\\python\\python312\\lib\\site-packages (1.0.10)\n",
      "Requirement already satisfied: charset-normalizer<4,>=2 in c:\\users\\pauli\\appdata\\local\\programs\\python\\python312\\lib\\site-packages (from requests) (3.3.2)\n",
      "Requirement already satisfied: idna<4,>=2.5 in c:\\users\\pauli\\appdata\\local\\programs\\python\\python312\\lib\\site-packages (from requests) (3.8)\n",
      "Requirement already satisfied: urllib3<3,>=1.21.1 in c:\\users\\pauli\\appdata\\local\\programs\\python\\python312\\lib\\site-packages (from requests) (2.2.2)\n",
      "Requirement already satisfied: certifi>=2017.4.17 in c:\\users\\pauli\\appdata\\local\\programs\\python\\python312\\lib\\site-packages (from requests) (2024.8.30)\n",
      "Requirement already satisfied: numpy>=1.26.0 in c:\\users\\pauli\\appdata\\local\\programs\\python\\python312\\lib\\site-packages (from pandas) (2.1.1)\n",
      "Requirement already satisfied: python-dateutil>=2.8.2 in c:\\users\\pauli\\appdata\\local\\programs\\python\\python312\\lib\\site-packages (from pandas) (2.9.0.post0)\n",
      "Requirement already satisfied: pytz>=2020.1 in c:\\users\\pauli\\appdata\\local\\programs\\python\\python312\\lib\\site-packages (from pandas) (2024.1)\n",
      "Requirement already satisfied: tzdata>=2022.7 in c:\\users\\pauli\\appdata\\local\\programs\\python\\python312\\lib\\site-packages (from pandas) (2024.1)\n",
      "Requirement already satisfied: six>=1.5 in c:\\users\\pauli\\appdata\\local\\programs\\python\\python312\\lib\\site-packages (from python-dateutil>=2.8.2->pandas) (1.16.0)\n",
      "Note: you may need to restart the kernel to use updated packages.\n"
     ]
    },
    {
     "name": "stderr",
     "output_type": "stream",
     "text": [
      "\n",
      "[notice] A new release of pip is available: 24.2 -> 24.3.1\n",
      "[notice] To update, run: python.exe -m pip install --upgrade pip\n"
     ]
    }
   ],
   "source": [
    "pip install requests pandas pyxlsb"
   ]
  },
  {
   "cell_type": "code",
   "execution_count": 61,
   "metadata": {},
   "outputs": [],
   "source": [
    "import requests\n",
    "import pandas as pd\n",
    "import seaborn as sns\n",
    "from matplotlib import pyplot as plt"
   ]
  },
  {
   "cell_type": "code",
   "execution_count": 62,
   "metadata": {},
   "outputs": [
    {
     "data": {
      "text/html": [
       "<div>\n",
       "<style scoped>\n",
       "    .dataframe tbody tr th:only-of-type {\n",
       "        vertical-align: middle;\n",
       "    }\n",
       "\n",
       "    .dataframe tbody tr th {\n",
       "        vertical-align: top;\n",
       "    }\n",
       "\n",
       "    .dataframe thead th {\n",
       "        text-align: right;\n",
       "    }\n",
       "</style>\n",
       "<table border=\"1\" class=\"dataframe\">\n",
       "  <thead>\n",
       "    <tr style=\"text-align: right;\">\n",
       "      <th></th>\n",
       "      <th>concessionaria</th>\n",
       "      <th>identificador</th>\n",
       "      <th>rodovia</th>\n",
       "      <th>uf</th>\n",
       "      <th>km_m</th>\n",
       "      <th>municipio</th>\n",
       "      <th>tipo_de_pista</th>\n",
       "      <th>latitude</th>\n",
       "      <th>longitude</th>\n",
       "      <th>data_da_passagem</th>\n",
       "      <th>sentido_da_passagem</th>\n",
       "      <th>faixa_da_passagem</th>\n",
       "      <th>velocidade</th>\n",
       "      <th>tipo_de_veiculo</th>\n",
       "      <th>volume_total</th>\n",
       "    </tr>\n",
       "  </thead>\n",
       "  <tbody>\n",
       "    <tr>\n",
       "      <th>0</th>\n",
       "      <td>AUTOPISTA REGIS BITTENCOURT</td>\n",
       "      <td>ARREG6315</td>\n",
       "      <td>BR-116</td>\n",
       "      <td>SP</td>\n",
       "      <td>299800</td>\n",
       "      <td>São Lourenço da Serra</td>\n",
       "      <td>Principal</td>\n",
       "      <td>-23793677</td>\n",
       "      <td>-46915330</td>\n",
       "      <td>44562</td>\n",
       "      <td>Crescente</td>\n",
       "      <td>1</td>\n",
       "      <td>21 - 50 KM</td>\n",
       "      <td>Moto</td>\n",
       "      <td>76</td>\n",
       "    </tr>\n",
       "    <tr>\n",
       "      <th>1</th>\n",
       "      <td>AUTOPISTA REGIS BITTENCOURT</td>\n",
       "      <td>ARREG6315</td>\n",
       "      <td>BR-116</td>\n",
       "      <td>SP</td>\n",
       "      <td>299800</td>\n",
       "      <td>São Lourenço da Serra</td>\n",
       "      <td>Principal</td>\n",
       "      <td>-23793677</td>\n",
       "      <td>-46915330</td>\n",
       "      <td>44562</td>\n",
       "      <td>Crescente</td>\n",
       "      <td>1</td>\n",
       "      <td>51 - 80 KM</td>\n",
       "      <td>Ônibus</td>\n",
       "      <td>111</td>\n",
       "    </tr>\n",
       "    <tr>\n",
       "      <th>2</th>\n",
       "      <td>AUTOPISTA REGIS BITTENCOURT</td>\n",
       "      <td>ARREG6315</td>\n",
       "      <td>BR-116</td>\n",
       "      <td>SP</td>\n",
       "      <td>299800</td>\n",
       "      <td>São Lourenço da Serra</td>\n",
       "      <td>Principal</td>\n",
       "      <td>-23793677</td>\n",
       "      <td>-46915330</td>\n",
       "      <td>44562</td>\n",
       "      <td>Crescente</td>\n",
       "      <td>1</td>\n",
       "      <td>21 - 50 KM</td>\n",
       "      <td>Ônibus</td>\n",
       "      <td>32</td>\n",
       "    </tr>\n",
       "    <tr>\n",
       "      <th>3</th>\n",
       "      <td>AUTOPISTA REGIS BITTENCOURT</td>\n",
       "      <td>ARREG6315</td>\n",
       "      <td>BR-116</td>\n",
       "      <td>SP</td>\n",
       "      <td>299800</td>\n",
       "      <td>São Lourenço da Serra</td>\n",
       "      <td>Principal</td>\n",
       "      <td>-23793677</td>\n",
       "      <td>-46915330</td>\n",
       "      <td>44562</td>\n",
       "      <td>Crescente</td>\n",
       "      <td>1</td>\n",
       "      <td>101 - 120</td>\n",
       "      <td>Comercial</td>\n",
       "      <td>5</td>\n",
       "    </tr>\n",
       "    <tr>\n",
       "      <th>4</th>\n",
       "      <td>AUTOPISTA REGIS BITTENCOURT</td>\n",
       "      <td>ARREG6315</td>\n",
       "      <td>BR-116</td>\n",
       "      <td>SP</td>\n",
       "      <td>299800</td>\n",
       "      <td>São Lourenço da Serra</td>\n",
       "      <td>Principal</td>\n",
       "      <td>-23793677</td>\n",
       "      <td>-46915330</td>\n",
       "      <td>44562</td>\n",
       "      <td>Crescente</td>\n",
       "      <td>1</td>\n",
       "      <td>21 - 50 KM</td>\n",
       "      <td>Passeio</td>\n",
       "      <td>3166</td>\n",
       "    </tr>\n",
       "    <tr>\n",
       "      <th>...</th>\n",
       "      <td>...</td>\n",
       "      <td>...</td>\n",
       "      <td>...</td>\n",
       "      <td>...</td>\n",
       "      <td>...</td>\n",
       "      <td>...</td>\n",
       "      <td>...</td>\n",
       "      <td>...</td>\n",
       "      <td>...</td>\n",
       "      <td>...</td>\n",
       "      <td>...</td>\n",
       "      <td>...</td>\n",
       "      <td>...</td>\n",
       "      <td>...</td>\n",
       "      <td>...</td>\n",
       "    </tr>\n",
       "    <tr>\n",
       "      <th>263445</th>\n",
       "      <td>AUTOPISTA REGIS BITTENCOURT</td>\n",
       "      <td>ARREG6331</td>\n",
       "      <td>BR-116</td>\n",
       "      <td>PR</td>\n",
       "      <td>40050</td>\n",
       "      <td>Campina Grande do Sul</td>\n",
       "      <td>Principal</td>\n",
       "      <td>-25167022</td>\n",
       "      <td>-48865032</td>\n",
       "      <td>45565</td>\n",
       "      <td>Crescente</td>\n",
       "      <td>1</td>\n",
       "      <td>21 - 50 KM</td>\n",
       "      <td>Moto</td>\n",
       "      <td>8</td>\n",
       "    </tr>\n",
       "    <tr>\n",
       "      <th>263446</th>\n",
       "      <td>AUTOPISTA REGIS BITTENCOURT</td>\n",
       "      <td>ARREG6331</td>\n",
       "      <td>BR-116</td>\n",
       "      <td>PR</td>\n",
       "      <td>40050</td>\n",
       "      <td>Campina Grande do Sul</td>\n",
       "      <td>Principal</td>\n",
       "      <td>-25167022</td>\n",
       "      <td>-48865032</td>\n",
       "      <td>45565</td>\n",
       "      <td>Crescente</td>\n",
       "      <td>1</td>\n",
       "      <td>21 - 50 KM</td>\n",
       "      <td>Comercial</td>\n",
       "      <td>342</td>\n",
       "    </tr>\n",
       "    <tr>\n",
       "      <th>263447</th>\n",
       "      <td>AUTOPISTA REGIS BITTENCOURT</td>\n",
       "      <td>ARREG6331</td>\n",
       "      <td>BR-116</td>\n",
       "      <td>PR</td>\n",
       "      <td>40050</td>\n",
       "      <td>Campina Grande do Sul</td>\n",
       "      <td>Principal</td>\n",
       "      <td>-25167022</td>\n",
       "      <td>-48865032</td>\n",
       "      <td>45565</td>\n",
       "      <td>Crescente</td>\n",
       "      <td>1</td>\n",
       "      <td>81 - 100 K</td>\n",
       "      <td>Comercial</td>\n",
       "      <td>23</td>\n",
       "    </tr>\n",
       "    <tr>\n",
       "      <th>263448</th>\n",
       "      <td>AUTOPISTA REGIS BITTENCOURT</td>\n",
       "      <td>ARREG6331</td>\n",
       "      <td>BR-116</td>\n",
       "      <td>PR</td>\n",
       "      <td>40050</td>\n",
       "      <td>Campina Grande do Sul</td>\n",
       "      <td>Principal</td>\n",
       "      <td>-25167022</td>\n",
       "      <td>-48865032</td>\n",
       "      <td>45565</td>\n",
       "      <td>Crescente</td>\n",
       "      <td>1</td>\n",
       "      <td>81 - 100 K</td>\n",
       "      <td>Passeio</td>\n",
       "      <td>16</td>\n",
       "    </tr>\n",
       "    <tr>\n",
       "      <th>263449</th>\n",
       "      <td>AUTOPISTA REGIS BITTENCOURT</td>\n",
       "      <td>ARREG6331</td>\n",
       "      <td>BR-116</td>\n",
       "      <td>PR</td>\n",
       "      <td>40050</td>\n",
       "      <td>Campina Grande do Sul</td>\n",
       "      <td>Principal</td>\n",
       "      <td>-25167022</td>\n",
       "      <td>-48865032</td>\n",
       "      <td>45565</td>\n",
       "      <td>Crescente</td>\n",
       "      <td>1</td>\n",
       "      <td>101 - 120</td>\n",
       "      <td>Ônibus</td>\n",
       "      <td>1</td>\n",
       "    </tr>\n",
       "  </tbody>\n",
       "</table>\n",
       "<p>263450 rows × 15 columns</p>\n",
       "</div>"
      ],
      "text/plain": [
       "                     concessionaria identificador rodovia  uf    km_m  \\\n",
       "0       AUTOPISTA REGIS BITTENCOURT     ARREG6315  BR-116  SP  299800   \n",
       "1       AUTOPISTA REGIS BITTENCOURT     ARREG6315  BR-116  SP  299800   \n",
       "2       AUTOPISTA REGIS BITTENCOURT     ARREG6315  BR-116  SP  299800   \n",
       "3       AUTOPISTA REGIS BITTENCOURT     ARREG6315  BR-116  SP  299800   \n",
       "4       AUTOPISTA REGIS BITTENCOURT     ARREG6315  BR-116  SP  299800   \n",
       "...                             ...           ...     ...  ..     ...   \n",
       "263445  AUTOPISTA REGIS BITTENCOURT     ARREG6331  BR-116  PR   40050   \n",
       "263446  AUTOPISTA REGIS BITTENCOURT     ARREG6331  BR-116  PR   40050   \n",
       "263447  AUTOPISTA REGIS BITTENCOURT     ARREG6331  BR-116  PR   40050   \n",
       "263448  AUTOPISTA REGIS BITTENCOURT     ARREG6331  BR-116  PR   40050   \n",
       "263449  AUTOPISTA REGIS BITTENCOURT     ARREG6331  BR-116  PR   40050   \n",
       "\n",
       "                    municipio tipo_de_pista  latitude  longitude  \\\n",
       "0       São Lourenço da Serra     Principal -23793677  -46915330   \n",
       "1       São Lourenço da Serra     Principal -23793677  -46915330   \n",
       "2       São Lourenço da Serra     Principal -23793677  -46915330   \n",
       "3       São Lourenço da Serra     Principal -23793677  -46915330   \n",
       "4       São Lourenço da Serra     Principal -23793677  -46915330   \n",
       "...                       ...           ...       ...        ...   \n",
       "263445  Campina Grande do Sul     Principal -25167022  -48865032   \n",
       "263446  Campina Grande do Sul     Principal -25167022  -48865032   \n",
       "263447  Campina Grande do Sul     Principal -25167022  -48865032   \n",
       "263448  Campina Grande do Sul     Principal -25167022  -48865032   \n",
       "263449  Campina Grande do Sul     Principal -25167022  -48865032   \n",
       "\n",
       "        data_da_passagem sentido_da_passagem  faixa_da_passagem  velocidade  \\\n",
       "0                  44562           Crescente                  1  21 - 50 KM   \n",
       "1                  44562           Crescente                  1  51 - 80 KM   \n",
       "2                  44562           Crescente                  1  21 - 50 KM   \n",
       "3                  44562           Crescente                  1  101 - 120    \n",
       "4                  44562           Crescente                  1  21 - 50 KM   \n",
       "...                  ...                 ...                ...         ...   \n",
       "263445             45565           Crescente                  1  21 - 50 KM   \n",
       "263446             45565           Crescente                  1  21 - 50 KM   \n",
       "263447             45565           Crescente                  1  81 - 100 K   \n",
       "263448             45565           Crescente                  1  81 - 100 K   \n",
       "263449             45565           Crescente                  1  101 - 120    \n",
       "\n",
       "       tipo_de_veiculo  volume_total  \n",
       "0                 Moto            76  \n",
       "1               Ônibus           111  \n",
       "2               Ônibus            32  \n",
       "3            Comercial             5  \n",
       "4              Passeio          3166  \n",
       "...                ...           ...  \n",
       "263445            Moto             8  \n",
       "263446       Comercial           342  \n",
       "263447       Comercial            23  \n",
       "263448         Passeio            16  \n",
       "263449          Ônibus             1  \n",
       "\n",
       "[263450 rows x 15 columns]"
      ]
     },
     "metadata": {},
     "output_type": "display_data"
    }
   ],
   "source": [
    "# URL do arquivo no GitHub\n",
    "url = 'https://raw.githubusercontent.com/pcmassonjr/AULA-7-APRENDIZADO-DE-MAQUINA-I/main/Base%20de%20Dados/volume-radar-arb.xlsb'\n",
    "\n",
    "# Faça o download do arquivo\n",
    "response = requests.get(url)\n",
    "response.raise_for_status()  # Verifica se houve algum erro na requisição\n",
    "\n",
    "# Salve o conteúdo do arquivo\n",
    "with open('volume-radar-arb.xlsb', 'wb') as file:\n",
    "    file.write(response.content)\n",
    "\n",
    "# Leia o arquivo Excel com pandas\n",
    "df_Radar = pd.read_excel('volume-radar-arb.xlsb', engine='pyxlsb')\n",
    "\n",
    "# Exibe o dataframe\n",
    "display(df_Radar)"
   ]
  },
  {
   "cell_type": "code",
   "execution_count": 63,
   "metadata": {},
   "outputs": [],
   "source": [
    "#convertendo a data para o formato aaaa-MM-dd\n",
    "df_Radar['data_da_passagem'] = pd.to_datetime(df_Radar['data_da_passagem'], origin='1899-12-30', unit='D')"
   ]
  },
  {
   "cell_type": "code",
   "execution_count": 64,
   "metadata": {},
   "outputs": [
    {
     "data": {
      "text/plain": [
       "concessionaria         0.0\n",
       "identificador          0.0\n",
       "rodovia                0.0\n",
       "uf                     0.0\n",
       "km_m                   0.0\n",
       "municipio              0.0\n",
       "tipo_de_pista          0.0\n",
       "latitude               0.0\n",
       "longitude              0.0\n",
       "data_da_passagem       0.0\n",
       "sentido_da_passagem    0.0\n",
       "faixa_da_passagem      0.0\n",
       "velocidade             0.0\n",
       "tipo_de_veiculo        0.0\n",
       "volume_total           0.0\n",
       "dtype: float64"
      ]
     },
     "metadata": {},
     "output_type": "display_data"
    }
   ],
   "source": [
    "# Verificacao de Dados ausentes\n",
    "# Proporção de ausentes em cada atributo:\n",
    "df_proporcao = df_Radar.isnull().sum() / len(df_Radar)\n",
    "display(df_proporcao)"
   ]
  },
  {
   "cell_type": "code",
   "execution_count": 65,
   "metadata": {},
   "outputs": [
    {
     "name": "stdout",
     "output_type": "stream",
     "text": [
      "concessionaria         0\n",
      "identificador          0\n",
      "rodovia                0\n",
      "uf                     0\n",
      "km_m                   0\n",
      "municipio              0\n",
      "tipo_de_pista          0\n",
      "latitude               0\n",
      "longitude              0\n",
      "data_da_passagem       0\n",
      "sentido_da_passagem    0\n",
      "faixa_da_passagem      0\n",
      "velocidade             0\n",
      "tipo_de_veiculo        0\n",
      "volume_total           0\n",
      "dtype: int64\n"
     ]
    }
   ],
   "source": [
    "# Criacao de um DataFrame pandas com o resultado da operacao isnull()\n",
    "df_isnull = df_Radar.isnull()\n",
    "# Contabilizacao dos dados ausentes por atributo\n",
    "print(df_Radar.isnull().sum())"
   ]
  },
  {
   "cell_type": "code",
   "execution_count": 66,
   "metadata": {},
   "outputs": [
    {
     "name": "stdout",
     "output_type": "stream",
     "text": [
      "Total de linhas duplicadas: 0\n"
     ]
    }
   ],
   "source": [
    "# Verificacao de Linhas duplicadas\n",
    "total_duplicados = df_Radar.duplicated(keep=False).sum()\n",
    "print(f'Total de linhas duplicadas: {total_duplicados}')"
   ]
  },
  {
   "cell_type": "code",
   "execution_count": 67,
   "metadata": {},
   "outputs": [
    {
     "data": {
      "text/html": [
       "<div>\n",
       "<style scoped>\n",
       "    .dataframe tbody tr th:only-of-type {\n",
       "        vertical-align: middle;\n",
       "    }\n",
       "\n",
       "    .dataframe tbody tr th {\n",
       "        vertical-align: top;\n",
       "    }\n",
       "\n",
       "    .dataframe thead th {\n",
       "        text-align: right;\n",
       "    }\n",
       "</style>\n",
       "<table border=\"1\" class=\"dataframe\">\n",
       "  <thead>\n",
       "    <tr style=\"text-align: right;\">\n",
       "      <th></th>\n",
       "      <th>concessionaria</th>\n",
       "      <th>identificador</th>\n",
       "      <th>rodovia</th>\n",
       "      <th>uf</th>\n",
       "      <th>km_m</th>\n",
       "      <th>municipio</th>\n",
       "      <th>tipo_de_pista</th>\n",
       "      <th>latitude</th>\n",
       "      <th>longitude</th>\n",
       "      <th>data_da_passagem</th>\n",
       "      <th>sentido_da_passagem</th>\n",
       "      <th>faixa_da_passagem</th>\n",
       "      <th>velocidade</th>\n",
       "      <th>tipo_de_veiculo</th>\n",
       "      <th>volume_total</th>\n",
       "    </tr>\n",
       "  </thead>\n",
       "  <tbody>\n",
       "    <tr>\n",
       "      <th>0</th>\n",
       "      <td>AUTOPISTA REGIS BITTENCOURT</td>\n",
       "      <td>ARREG6315</td>\n",
       "      <td>BR-116</td>\n",
       "      <td>SP</td>\n",
       "      <td>299800</td>\n",
       "      <td>São Lourenço da Serra</td>\n",
       "      <td>Principal</td>\n",
       "      <td>-23793677</td>\n",
       "      <td>-46915330</td>\n",
       "      <td>2022-01-01</td>\n",
       "      <td>Crescente</td>\n",
       "      <td>1</td>\n",
       "      <td>21 - 50 KM</td>\n",
       "      <td>Moto</td>\n",
       "      <td>76</td>\n",
       "    </tr>\n",
       "    <tr>\n",
       "      <th>1</th>\n",
       "      <td>AUTOPISTA REGIS BITTENCOURT</td>\n",
       "      <td>ARREG6315</td>\n",
       "      <td>BR-116</td>\n",
       "      <td>SP</td>\n",
       "      <td>299800</td>\n",
       "      <td>São Lourenço da Serra</td>\n",
       "      <td>Principal</td>\n",
       "      <td>-23793677</td>\n",
       "      <td>-46915330</td>\n",
       "      <td>2022-01-01</td>\n",
       "      <td>Crescente</td>\n",
       "      <td>1</td>\n",
       "      <td>51 - 80 KM</td>\n",
       "      <td>Ônibus</td>\n",
       "      <td>111</td>\n",
       "    </tr>\n",
       "    <tr>\n",
       "      <th>2</th>\n",
       "      <td>AUTOPISTA REGIS BITTENCOURT</td>\n",
       "      <td>ARREG6315</td>\n",
       "      <td>BR-116</td>\n",
       "      <td>SP</td>\n",
       "      <td>299800</td>\n",
       "      <td>São Lourenço da Serra</td>\n",
       "      <td>Principal</td>\n",
       "      <td>-23793677</td>\n",
       "      <td>-46915330</td>\n",
       "      <td>2022-01-01</td>\n",
       "      <td>Crescente</td>\n",
       "      <td>1</td>\n",
       "      <td>21 - 50 KM</td>\n",
       "      <td>Ônibus</td>\n",
       "      <td>32</td>\n",
       "    </tr>\n",
       "    <tr>\n",
       "      <th>3</th>\n",
       "      <td>AUTOPISTA REGIS BITTENCOURT</td>\n",
       "      <td>ARREG6315</td>\n",
       "      <td>BR-116</td>\n",
       "      <td>SP</td>\n",
       "      <td>299800</td>\n",
       "      <td>São Lourenço da Serra</td>\n",
       "      <td>Principal</td>\n",
       "      <td>-23793677</td>\n",
       "      <td>-46915330</td>\n",
       "      <td>2022-01-01</td>\n",
       "      <td>Crescente</td>\n",
       "      <td>1</td>\n",
       "      <td>101 - 120</td>\n",
       "      <td>Comercial</td>\n",
       "      <td>5</td>\n",
       "    </tr>\n",
       "    <tr>\n",
       "      <th>4</th>\n",
       "      <td>AUTOPISTA REGIS BITTENCOURT</td>\n",
       "      <td>ARREG6315</td>\n",
       "      <td>BR-116</td>\n",
       "      <td>SP</td>\n",
       "      <td>299800</td>\n",
       "      <td>São Lourenço da Serra</td>\n",
       "      <td>Principal</td>\n",
       "      <td>-23793677</td>\n",
       "      <td>-46915330</td>\n",
       "      <td>2022-01-01</td>\n",
       "      <td>Crescente</td>\n",
       "      <td>1</td>\n",
       "      <td>21 - 50 KM</td>\n",
       "      <td>Passeio</td>\n",
       "      <td>3166</td>\n",
       "    </tr>\n",
       "    <tr>\n",
       "      <th>...</th>\n",
       "      <td>...</td>\n",
       "      <td>...</td>\n",
       "      <td>...</td>\n",
       "      <td>...</td>\n",
       "      <td>...</td>\n",
       "      <td>...</td>\n",
       "      <td>...</td>\n",
       "      <td>...</td>\n",
       "      <td>...</td>\n",
       "      <td>...</td>\n",
       "      <td>...</td>\n",
       "      <td>...</td>\n",
       "      <td>...</td>\n",
       "      <td>...</td>\n",
       "      <td>...</td>\n",
       "    </tr>\n",
       "    <tr>\n",
       "      <th>263445</th>\n",
       "      <td>AUTOPISTA REGIS BITTENCOURT</td>\n",
       "      <td>ARREG6331</td>\n",
       "      <td>BR-116</td>\n",
       "      <td>PR</td>\n",
       "      <td>40050</td>\n",
       "      <td>Campina Grande do Sul</td>\n",
       "      <td>Principal</td>\n",
       "      <td>-25167022</td>\n",
       "      <td>-48865032</td>\n",
       "      <td>2024-09-30</td>\n",
       "      <td>Crescente</td>\n",
       "      <td>1</td>\n",
       "      <td>21 - 50 KM</td>\n",
       "      <td>Moto</td>\n",
       "      <td>8</td>\n",
       "    </tr>\n",
       "    <tr>\n",
       "      <th>263446</th>\n",
       "      <td>AUTOPISTA REGIS BITTENCOURT</td>\n",
       "      <td>ARREG6331</td>\n",
       "      <td>BR-116</td>\n",
       "      <td>PR</td>\n",
       "      <td>40050</td>\n",
       "      <td>Campina Grande do Sul</td>\n",
       "      <td>Principal</td>\n",
       "      <td>-25167022</td>\n",
       "      <td>-48865032</td>\n",
       "      <td>2024-09-30</td>\n",
       "      <td>Crescente</td>\n",
       "      <td>1</td>\n",
       "      <td>21 - 50 KM</td>\n",
       "      <td>Comercial</td>\n",
       "      <td>342</td>\n",
       "    </tr>\n",
       "    <tr>\n",
       "      <th>263447</th>\n",
       "      <td>AUTOPISTA REGIS BITTENCOURT</td>\n",
       "      <td>ARREG6331</td>\n",
       "      <td>BR-116</td>\n",
       "      <td>PR</td>\n",
       "      <td>40050</td>\n",
       "      <td>Campina Grande do Sul</td>\n",
       "      <td>Principal</td>\n",
       "      <td>-25167022</td>\n",
       "      <td>-48865032</td>\n",
       "      <td>2024-09-30</td>\n",
       "      <td>Crescente</td>\n",
       "      <td>1</td>\n",
       "      <td>81 - 100 K</td>\n",
       "      <td>Comercial</td>\n",
       "      <td>23</td>\n",
       "    </tr>\n",
       "    <tr>\n",
       "      <th>263448</th>\n",
       "      <td>AUTOPISTA REGIS BITTENCOURT</td>\n",
       "      <td>ARREG6331</td>\n",
       "      <td>BR-116</td>\n",
       "      <td>PR</td>\n",
       "      <td>40050</td>\n",
       "      <td>Campina Grande do Sul</td>\n",
       "      <td>Principal</td>\n",
       "      <td>-25167022</td>\n",
       "      <td>-48865032</td>\n",
       "      <td>2024-09-30</td>\n",
       "      <td>Crescente</td>\n",
       "      <td>1</td>\n",
       "      <td>81 - 100 K</td>\n",
       "      <td>Passeio</td>\n",
       "      <td>16</td>\n",
       "    </tr>\n",
       "    <tr>\n",
       "      <th>263449</th>\n",
       "      <td>AUTOPISTA REGIS BITTENCOURT</td>\n",
       "      <td>ARREG6331</td>\n",
       "      <td>BR-116</td>\n",
       "      <td>PR</td>\n",
       "      <td>40050</td>\n",
       "      <td>Campina Grande do Sul</td>\n",
       "      <td>Principal</td>\n",
       "      <td>-25167022</td>\n",
       "      <td>-48865032</td>\n",
       "      <td>2024-09-30</td>\n",
       "      <td>Crescente</td>\n",
       "      <td>1</td>\n",
       "      <td>101 - 120</td>\n",
       "      <td>Ônibus</td>\n",
       "      <td>1</td>\n",
       "    </tr>\n",
       "  </tbody>\n",
       "</table>\n",
       "<p>263450 rows × 15 columns</p>\n",
       "</div>"
      ],
      "text/plain": [
       "                     concessionaria identificador rodovia  uf    km_m  \\\n",
       "0       AUTOPISTA REGIS BITTENCOURT     ARREG6315  BR-116  SP  299800   \n",
       "1       AUTOPISTA REGIS BITTENCOURT     ARREG6315  BR-116  SP  299800   \n",
       "2       AUTOPISTA REGIS BITTENCOURT     ARREG6315  BR-116  SP  299800   \n",
       "3       AUTOPISTA REGIS BITTENCOURT     ARREG6315  BR-116  SP  299800   \n",
       "4       AUTOPISTA REGIS BITTENCOURT     ARREG6315  BR-116  SP  299800   \n",
       "...                             ...           ...     ...  ..     ...   \n",
       "263445  AUTOPISTA REGIS BITTENCOURT     ARREG6331  BR-116  PR   40050   \n",
       "263446  AUTOPISTA REGIS BITTENCOURT     ARREG6331  BR-116  PR   40050   \n",
       "263447  AUTOPISTA REGIS BITTENCOURT     ARREG6331  BR-116  PR   40050   \n",
       "263448  AUTOPISTA REGIS BITTENCOURT     ARREG6331  BR-116  PR   40050   \n",
       "263449  AUTOPISTA REGIS BITTENCOURT     ARREG6331  BR-116  PR   40050   \n",
       "\n",
       "                    municipio tipo_de_pista  latitude  longitude  \\\n",
       "0       São Lourenço da Serra     Principal -23793677  -46915330   \n",
       "1       São Lourenço da Serra     Principal -23793677  -46915330   \n",
       "2       São Lourenço da Serra     Principal -23793677  -46915330   \n",
       "3       São Lourenço da Serra     Principal -23793677  -46915330   \n",
       "4       São Lourenço da Serra     Principal -23793677  -46915330   \n",
       "...                       ...           ...       ...        ...   \n",
       "263445  Campina Grande do Sul     Principal -25167022  -48865032   \n",
       "263446  Campina Grande do Sul     Principal -25167022  -48865032   \n",
       "263447  Campina Grande do Sul     Principal -25167022  -48865032   \n",
       "263448  Campina Grande do Sul     Principal -25167022  -48865032   \n",
       "263449  Campina Grande do Sul     Principal -25167022  -48865032   \n",
       "\n",
       "       data_da_passagem sentido_da_passagem  faixa_da_passagem  velocidade  \\\n",
       "0            2022-01-01           Crescente                  1  21 - 50 KM   \n",
       "1            2022-01-01           Crescente                  1  51 - 80 KM   \n",
       "2            2022-01-01           Crescente                  1  21 - 50 KM   \n",
       "3            2022-01-01           Crescente                  1  101 - 120    \n",
       "4            2022-01-01           Crescente                  1  21 - 50 KM   \n",
       "...                 ...                 ...                ...         ...   \n",
       "263445       2024-09-30           Crescente                  1  21 - 50 KM   \n",
       "263446       2024-09-30           Crescente                  1  21 - 50 KM   \n",
       "263447       2024-09-30           Crescente                  1  81 - 100 K   \n",
       "263448       2024-09-30           Crescente                  1  81 - 100 K   \n",
       "263449       2024-09-30           Crescente                  1  101 - 120    \n",
       "\n",
       "       tipo_de_veiculo  volume_total  \n",
       "0                 Moto            76  \n",
       "1               Ônibus           111  \n",
       "2               Ônibus            32  \n",
       "3            Comercial             5  \n",
       "4              Passeio          3166  \n",
       "...                ...           ...  \n",
       "263445            Moto             8  \n",
       "263446       Comercial           342  \n",
       "263447       Comercial            23  \n",
       "263448         Passeio            16  \n",
       "263449          Ônibus             1  \n",
       "\n",
       "[263450 rows x 15 columns]"
      ]
     },
     "metadata": {},
     "output_type": "display_data"
    }
   ],
   "source": [
    "display(df_Radar)"
   ]
  },
  {
   "cell_type": "markdown",
   "metadata": {
    "id": "FGwyFHwtoO5m"
   },
   "source": [
    "## **Modelo 1**\n",
    "\n",
    "*Descreva resumidamente o modelo empregado.*\n"
   ]
  },
  {
   "cell_type": "markdown",
   "metadata": {
    "id": "hXaglI6JoaJO"
   },
   "source": [
    "### **Modelo 1:** Preparação dos Dados\n"
   ]
  },
  {
   "cell_type": "code",
   "execution_count": null,
   "metadata": {},
   "outputs": [],
   "source": []
  },
  {
   "cell_type": "markdown",
   "metadata": {
    "id": "VyE3YKdQotLc"
   },
   "source": [
    "### **Modelo 1:** Modelo\n"
   ]
  },
  {
   "cell_type": "code",
   "execution_count": null,
   "metadata": {},
   "outputs": [],
   "source": []
  },
  {
   "cell_type": "markdown",
   "metadata": {
    "id": "SRw3t2NnotVI"
   },
   "source": [
    "### **Modelo 1:** Resultados\n"
   ]
  },
  {
   "cell_type": "code",
   "execution_count": null,
   "metadata": {},
   "outputs": [],
   "source": []
  },
  {
   "cell_type": "markdown",
   "metadata": {
    "id": "n6sOVE9jo_jq"
   },
   "source": [
    "## **Modelo 2**\n",
    "\n",
    "*Descreva resumidamente o modelo empregado.*\n"
   ]
  },
  {
   "cell_type": "markdown",
   "metadata": {
    "id": "lBW3929po_jr"
   },
   "source": [
    "### **Modelo 2:** Preparação dos Dados\n"
   ]
  },
  {
   "cell_type": "code",
   "execution_count": 72,
   "metadata": {
    "id": "VfJUfM16o_jr"
   },
   "outputs": [],
   "source": [
    "# seu código"
   ]
  },
  {
   "cell_type": "markdown",
   "metadata": {
    "id": "z60H0esCo_jr"
   },
   "source": [
    "### **Modelo 2:** Modelo\n"
   ]
  },
  {
   "cell_type": "code",
   "execution_count": 73,
   "metadata": {
    "id": "GzbajY4fo_jr"
   },
   "outputs": [],
   "source": [
    "# seu código"
   ]
  },
  {
   "cell_type": "markdown",
   "metadata": {
    "id": "f66UTm3So_js"
   },
   "source": [
    "### **Modelo 2:** Resultados\n"
   ]
  },
  {
   "cell_type": "code",
   "execution_count": 74,
   "metadata": {
    "id": "PJGbWBofo_jt"
   },
   "outputs": [],
   "source": [
    "# seu código"
   ]
  },
  {
   "cell_type": "markdown",
   "metadata": {
    "id": "9kwoGZeSLRsX"
   },
   "source": [
    "# **Conclusão** \n",
    "\n",
    "*Apresente a conclusão do seu estudo comparando ainda os resultados obtidos com o referencial teórico apresentado.*\n",
    "\n"
   ]
  },
  {
   "cell_type": "markdown",
   "metadata": {
    "id": "hc0rg9YSzRz9"
   },
   "source": [
    "# **Referências** \n",
    "\n",
    "*Indique as referências empregadas, incluindo as fontes de dados.*"
   ]
  },
  {
   "cell_type": "markdown",
   "metadata": {},
   "source": [
    "https://dados.gov.br/dados/conjuntos-dados/volume-radar"
   ]
  },
  {
   "cell_type": "markdown",
   "metadata": {
    "id": "8crUBC3IQ3U_"
   },
   "source": [
    "---"
   ]
  },
  {
   "cell_type": "code",
   "execution_count": 75,
   "metadata": {
    "cellView": "form",
    "id": "BluFtfHuCGzm"
   },
   "outputs": [],
   "source": [
    "#@title Avaliação\n",
    "Completo = 10 #@param {type:\"slider\", min:0, max:10, step:1}\n",
    "#@markdown Projeto cumpre todos os itens pedidos. \n",
    "Relevancia = 9 #@param {type:\"slider\", min:0, max:10, step:1}\n",
    "#@markdown As seleções de dados e eventos para análise são relevantes e justificados. \n",
    "Tecnicas = 6 #@param {type:\"slider\", min:0, max:10, step:1}\n",
    "#@markdown As técnicas de empregadas são adequadas e corretamente aplicadas.\n",
    "Apresentacao = 7 #@param {type:\"slider\", min:0, max:10, step:1}\n",
    "#@markdown A apresentação dos resultados é clara e objetiva.\n",
    "Analise = 8 #@param {type:\"slider\", min:0, max:10, step:1}\n",
    "#@markdown As premissas de análise se justificam e a analise é correta. \n",
    "Conclusao = 7 #@param {type:\"slider\", min:0, max:10, step:1}\n",
    "#@markdown As conclusões são justificadas e relevantes\n",
    "Bonus = 0.5 #@param {type:\"slider\", min:0, max:1, step:0.5}\n",
    "#@markdown A critério do professor por inovações na abordagem e no uso de técnicas de Análise de Dados\n",
    "\n",
    "\n",
    "\n",
    "\n",
    "\n",
    "\n"
   ]
  },
  {
   "cell_type": "code",
   "execution_count": 76,
   "metadata": {
    "cellView": "form",
    "colab": {
     "base_uri": "https://localhost:8080/",
     "height": 148
    },
    "id": "2Gqw7hUZHyle",
    "outputId": "17dc9379-224b-4a07-e5c3-aa059ba434d8"
   },
   "outputs": [
    {
     "name": "stdout",
     "output_type": "stream",
     "text": [
      "Nota final do trabalho 8.3\n",
      "\n"
     ]
    },
    {
     "data": {
      "text/html": [
       "<div>\n",
       "<style scoped>\n",
       "    .dataframe tbody tr th:only-of-type {\n",
       "        vertical-align: middle;\n",
       "    }\n",
       "\n",
       "    .dataframe tbody tr th {\n",
       "        vertical-align: top;\n",
       "    }\n",
       "\n",
       "    .dataframe thead th {\n",
       "        text-align: right;\n",
       "    }\n",
       "</style>\n",
       "<table border=\"1\" class=\"dataframe\">\n",
       "  <thead>\n",
       "    <tr style=\"text-align: right;\">\n",
       "      <th></th>\n",
       "      <th>tia</th>\n",
       "      <th>nome</th>\n",
       "      <th>nota</th>\n",
       "    </tr>\n",
       "  </thead>\n",
       "  <tbody>\n",
       "    <tr>\n",
       "      <th>0</th>\n",
       "      <td>10424880</td>\n",
       "      <td>BRUNO ZOVARO NASCIMENTO</td>\n",
       "      <td>8.3</td>\n",
       "    </tr>\n",
       "    <tr>\n",
       "      <th>1</th>\n",
       "      <td>14023666</td>\n",
       "      <td>DOUGLAS NOVAES DIAS</td>\n",
       "      <td>8.3</td>\n",
       "    </tr>\n",
       "    <tr>\n",
       "      <th>2</th>\n",
       "      <td>10363757</td>\n",
       "      <td>MILAN MIRCO MORAES MAZUR</td>\n",
       "      <td>8.3</td>\n",
       "    </tr>\n",
       "    <tr>\n",
       "      <th>3</th>\n",
       "      <td>10416023</td>\n",
       "      <td>PAULO CESAR MASSON JUNIOR</td>\n",
       "      <td>8.3</td>\n",
       "    </tr>\n",
       "  </tbody>\n",
       "</table>\n",
       "</div>"
      ],
      "text/plain": [
       "        tia                        nome  nota\n",
       "0  10424880     BRUNO ZOVARO NASCIMENTO   8.3\n",
       "1  14023666         DOUGLAS NOVAES DIAS   8.3\n",
       "2  10363757    MILAN MIRCO MORAES MAZUR   8.3\n",
       "3  10416023   PAULO CESAR MASSON JUNIOR   8.3"
      ]
     },
     "execution_count": 76,
     "metadata": {},
     "output_type": "execute_result"
    }
   ],
   "source": [
    "#@markdown ### Nota Final\n",
    "nota = Completo + Relevancia + Tecnicas + Apresentacao + Analise + Conclusao \n",
    "\n",
    "nota = nota / 6 + Bonus\n",
    "\n",
    "print(f'Nota final do trabalho {nota :.1f}')\n",
    "\n",
    "import numpy as np\n",
    "import pandas as pd\n",
    "\n",
    "alunos = pd.DataFrame()\n",
    "\n",
    "lista_tia = []\n",
    "lista_nome = []\n",
    "\n",
    "for i in range(1,6):\n",
    "  exec(\"if Aluno\" + str(i) + \" !='None':  lista = Aluno\" + str(i) + \".split(','); lista_tia.append(lista[0]); lista_nome.append(lista[1].upper())\")\n",
    "\n",
    "alunos['tia'] = lista_tia\n",
    "alunos['nome'] = lista_nome\n",
    "alunos['nota'] = np.round(nota,1)\n",
    "print()\n",
    "alunos"
   ]
  }
 ],
 "metadata": {
  "colab": {
   "collapsed_sections": [],
   "include_colab_link": true,
   "name": "ML7_ex_projeto.ipynb",
   "provenance": []
  },
  "kernelspec": {
   "display_name": "Python 3",
   "language": "python",
   "name": "python3"
  },
  "language_info": {
   "codemirror_mode": {
    "name": "ipython",
    "version": 3
   },
   "file_extension": ".py",
   "mimetype": "text/x-python",
   "name": "python",
   "nbconvert_exporter": "python",
   "pygments_lexer": "ipython3",
   "version": "3.12.5"
  }
 },
 "nbformat": 4,
 "nbformat_minor": 0
}
